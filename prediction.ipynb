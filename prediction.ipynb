{
 "cells": [
  {
   "cell_type": "code",
   "execution_count": 1,
   "metadata": {},
   "outputs": [],
   "source": [
    "import os\n",
    "import numpy as np\n",
    "import pandas as pd\n",
    "from tqdm import tqdm\n",
    "import matplotlib.pyplot as plt\n",
    "\n",
    "from importlib import reload\n",
    "\n",
    "import nlp_functions as NF\n",
    "\n",
    "from sentence_transformers import SentenceTransformer\n",
    "\n",
    "from sklearn.svm import SVC\n",
    "from sklearn.metrics import pairwise_distances\n",
    "from sklearn.naive_bayes import BernoulliNB\n",
    "\n",
    "from constants import DATA_DIR, RNG, RANDOM_SEED"
   ]
  },
  {
   "cell_type": "code",
   "execution_count": null,
   "metadata": {},
   "outputs": [],
   "source": [
    "def distance_cluster(df, encoded, known):\n",
    "    # Assign Clusters Based on Prototypes\n",
    "    distances = pairwise_distances(encoded[known], encoded[~known])\n",
    "    dmax = np.max(distances)\n",
    "    dmin = np.min(distances)\n",
    "    nearest = np.argmin(distances, axis=0)\n",
    "    prob = 1-(np.min(distances, 0)-dmin)/(dmax-dmin)\n",
    "\n",
    "    # Get labels of nearest labeled points\n",
    "    pred_labels = df.loc[known, 'relevant'].values[nearest]\n",
    "    return pred_labels, np.vstack((prob, prob)).T # np.ones((len(pred_labels), 2)) # *0.75\n",
    "\n",
    "\n",
    "def model_fit_predict(model, df, encoded, known):\n",
    "    try:\n",
    "        # Provide random seed for reproducibility, if relevent\n",
    "        M = model(random_state=RANDOM_SEED, probability=True)\n",
    "    except TypeError:\n",
    "        M = model()\n",
    "    M.fit(encoded[known], df.loc[known, 'relevant'].astype(int))\n",
    "\n",
    "    return M.predict(encoded[~known]), M.predict_proba(encoded[~known])\n",
    "\n",
    "\n",
    "def ensemble_fit_predict(df, encoded):\n",
    "    # \"relevant\" column contains manually generated labels for training\n",
    "    # \"labeled\" column contains both manually generated and predicted labels\n",
    "\n",
    "    models = [distance_cluster, SVC, BernoulliNB]\n",
    "\n",
    "    known = ~df['relevant'].isna()\n",
    "\n",
    "    preds = []\n",
    "    probs = []\n",
    "    for i, model in enumerate(models):\n",
    "        if i == 0:\n",
    "            pred, prob = model(df, encoded, known)\n",
    "        else:\n",
    "            pred, prob = model_fit_predict(model, df, encoded, known)\n",
    "        preds.append(pred)\n",
    "        probs.append(prob)\n",
    "\n",
    "    df['labeled'] = False\n",
    "    df.loc[known, 'labeled'] = df.loc[known, 'relevant'].astype(bool)\n",
    "    df['confidence'] = np.nan #known.astype(float)\n",
    "    df.loc[~known, 'confidence'] = np.max(np.mean(np.array(probs), 0), 1)\n",
    "    df.loc[~known, 'labeled'] = np.mean(preds, axis=0)>0.5"
   ]
  },
  {
   "cell_type": "code",
   "execution_count": 3,
   "metadata": {},
   "outputs": [],
   "source": [
    "subfolder = 'Iter1'\n",
    "manual_labeled = pd.read_parquet(os.path.join(DATA_DIR, subfolder, 'partial_labeled_100.par'))\n",
    "full_data = pd.read_parquet(os.path.join(DATA_DIR, 'fil_products_5rev.par'))\n",
    "full_data['relevant'] = np.nan"
   ]
  },
  {
   "cell_type": "code",
   "execution_count": 4,
   "metadata": {},
   "outputs": [],
   "source": [
    "full_data.loc[full_data.index.isin(manual_labeled.index), 'relevant'] = manual_labeled['relevant']"
   ]
  },
  {
   "cell_type": "code",
   "execution_count": 5,
   "metadata": {},
   "outputs": [],
   "source": [
    "# Sentence Transformer\n",
    "model = SentenceTransformer('all-MiniLM-L12-v2')\n",
    "sent_encoded = model.encode(full_data[\"title\"].values, convert_to_tensor=False)"
   ]
  },
  {
   "cell_type": "code",
   "execution_count": 104,
   "metadata": {},
   "outputs": [],
   "source": [
    "# encoding, tokens = NF.simple_vector_encode(full_data)\n",
    "# encoding.shape"
   ]
  },
  {
   "cell_type": "code",
   "execution_count": 76,
   "metadata": {},
   "outputs": [],
   "source": [
    "# Train SVM on encodings and labels for manual_labeled\n",
    "# and predict on unlabeled portion of full_data\n",
    "ensemble_fit_predict(full_data, sent_encoded)"
   ]
  },
  {
   "cell_type": "code",
   "execution_count": 103,
   "metadata": {},
   "outputs": [],
   "source": [
    "def plot_confidence(df):\n",
    "    counts, bins, bars = plt.hist(df.loc[df['labeled'], 'confidence'], 50, histtype='step')\n",
    "    plt.hist(df.loc[~df['labeled'], 'confidence'], bins, histtype='step')\n",
    "    plt.yscale('log')\n",
    "    plt.xlabel('Confidence')\n",
    "    plt.ylabel('Count (log)')\n",
    "    plt.title('Predicted Label Confidence')\n",
    "    plt.legend(['Relevant', 'Irrelevant'])\n",
    "    plt.gcf().set_size_inches(5, 2.5)\n",
    "    plt.show()"
   ]
  },
  {
   "cell_type": "code",
   "execution_count": 104,
   "metadata": {},
   "outputs": [
    {
     "data": {
      "image/png": "[encoded data removed]",
      "text/plain": [
       "<Figure size 500x250 with 1 Axes>"
      ]
     },
     "metadata": {},
     "output_type": "display_data"
    }
   ],
   "source": [
    "plot_confidence(full_data)"
   ]
  },
  {
   "cell_type": "code",
   "execution_count": 71,
   "metadata": {},
   "outputs": [
    {
     "data": {
      "text/plain": [
       "126"
      ]
     },
     "execution_count": 71,
     "metadata": {},
     "output_type": "execute_result"
    }
   ],
   "source": [
    "sum(full_data['confidence']<0.75)"
   ]
  },
  {
   "cell_type": "code",
   "execution_count": 94,
   "metadata": {},
   "outputs": [],
   "source": [
    "import ipywidgets as widgets\n",
    "from functools import partial\n",
    "\n",
    "\n",
    "class WidgetEntry:\n",
    "    def __init__(self, text=\"\", target=None, clickfunc=None):\n",
    "        self.target = target\n",
    "        self.clickfunc = clickfunc\n",
    "\n",
    "        self.text = widgets.Output()\n",
    "        with self.text:\n",
    "            print(text)\n",
    "\n",
    "        self.rel_check = widgets.ToggleButton(True, description=\"Relevant\")\n",
    "        if self.clickfunc:\n",
    "            self.rel_check.observe(partial(self.clickfunc, self.target), 'value')\n",
    "\n",
    "        self.layout = widgets.HBox([self.rel_check, self.text])\n",
    "\n",
    "        self.hide()\n",
    "\n",
    "    def reset(self):\n",
    "        self.text.clear_output()\n",
    "        self.rel_check._click_handlers = widgets.CallbackDispatcher()\n",
    "\n",
    "    def show(self):\n",
    "        self.text.layout.display = \"\"\n",
    "        self.rel_check.layout.display = \"\"\n",
    "\n",
    "    def hide(self):\n",
    "        self.text.layout.display = \"none\"\n",
    "        self.rel_check.layout.display = \"none\"\n",
    "\n",
    "\n",
    "def manual_individual_review(titles, labels):\n",
    "    def _process_target(target, state, *args):\n",
    "        labels[target] = state['new']\n",
    "\n",
    "    header = widgets.Text()\n",
    "    header.value = f\"{len(titles)} Entries:\"\n",
    "\n",
    "    entries = [\n",
    "        WidgetEntry(f\"#{j}: {titles[i]}\", i, _process_target)\n",
    "        for j, i in enumerate(np.argsort(titles))\n",
    "    ]\n",
    "    main_layout = widgets.VBox([header] + [e.layout for e in entries])\n",
    "\n",
    "    for e in entries:\n",
    "        e.show()\n",
    "\n",
    "    return main_layout"
   ]
  },
  {
   "cell_type": "code",
   "execution_count": 92,
   "metadata": {},
   "outputs": [],
   "source": [
    "low_conf_rel_idxs = (full_data['confidence']<0.75)*(full_data['labeled'])\n",
    "low_conf_irr_idxs = (full_data['confidence']<0.75)*(~full_data['labeled'])\n",
    "\n",
    "low_confidence_titles = full_data.loc[low_conf_rel_idxs, 'title'].tolist() + full_data.loc[low_conf_irr_idxs, 'title'].tolist()\n",
    "expected_labels = np.array([1]*sum(low_conf_rel_idxs) + [0]*sum(low_conf_irr_idxs))"
   ]
  },
  {
   "cell_type": "code",
   "execution_count": 95,
   "metadata": {},
   "outputs": [
    {
     "data": {
      "application/vnd.jupyter.widget-view+json": {
       "model_id": "0ede29ee632345c8841167d6f7e70f96",
       "version_major": 2,
       "version_minor": 0
      },
      "text/plain": [
       "VBox(children=(Text(value='126 Entries:'), HBox(children=(ToggleButton(value=True, description='Relevant', lay…"
      ]
     },
     "execution_count": 95,
     "metadata": {},
     "output_type": "execute_result"
    }
   ],
   "source": [
    "labeled_low_conf = np.ones((len(low_confidence_titles)))\n",
    "manual_individual_review(low_confidence_titles, labeled_low_conf)"
   ]
  },
  {
   "cell_type": "code",
   "execution_count": 165,
   "metadata": {},
   "outputs": [
    {
     "data": {
      "text/plain": [
       "np.int64(16)"
      ]
     },
     "execution_count": 165,
     "metadata": {},
     "output_type": "execute_result"
    }
   ],
   "source": [
    "misclassified = sum(expected_labels != labeled_low_conf)\n",
    "misclassified"
   ]
  },
  {
   "cell_type": "code",
   "execution_count": 167,
   "metadata": {},
   "outputs": [
    {
     "data": {
      "text/plain": [
       "array(['Creality Ender 3 V2 3D Printer and PLA 3D Printer Filament Black',\n",
       "       'Tseriact Filament Welder Splicer - 1.75mm 3D Filament Connector Easy Operate Repair Broken 3D Filament for All Kind PLA/ABS/PETG/TPU/PC/PP/Hips Material',\n",
       "       'uxcell PTFE Tubing 3mm ID x 4mm OD x 2M 6.6ft for Filament PLA ABS 3D Printer',\n",
       "       'Sunhokey 3D Printer Filament Detection Sensor Module Filament Run-Out Pause Detecting Monitor for 3D Printer Lerdge Board 1.75mm PLA ABS Filament (1.75mm, Black, 2)',\n",
       "       'NanHong roll outThe New 3D Pen Filament Refills Storage Box Kit 6 Glow in The Dark Colors 1.75mm pla.36 Colors/16 Feet Each Colors Kit,590 Linear Feet Total of',\n",
       "       'ELEGOO Neptune 3D Printer FDM 3D Printer Full Metal Print Size 8”x8”x8” Compatible with TPU/PLA/ABS Filament',\n",
       "       'Blusmart 3D Printing Pen Ver.2015 ABS/PLA 1.75mm Printer Filament with 0.7mm Nozzle for 3D Craft Drawing (Blue)',\n",
       "       'da Vinci Mini Wireless 3D Printer-6\"x6\"x6\" Volume (Includes: 300g Filament, PLA/Tough PLA/PETG)',\n",
       "       '3doodler 2.0 3d Printing Pen + Free 130 Mixed Strands of Filament PLA & ABS',\n",
       "       \"MakerBot Tough PLA 3D Printing Filament Large Spool for Use with MakerBot's Replicator+, Fifth Generation and Z18 Line of 3D Printers, Non-Toxic Resin, 1.75mm Diameter, Stone White (375-0008A)\",\n",
       "       \"MakerBot PLA 3D Printing Filament Large Spool for Use with MakerBot's Replicator+ & 5th Generation Line of 3D Printers, Non-Toxic Resin, 1.75mm Diameter, White (MP05780)\",\n",
       "       \"MakerBot PLA 3D Printing Filament Large Spool for Use with MakerBot's Replicator+ & 5th Generation Line of 3D Printers, Non-Toxic Resin, 1.75mm Diameter, White (MP05780)\",\n",
       "       'Polymaker LW PLA Filament 1.75mm Wood, Pre-Foamed PLA 800g Lightweight 3D Filament - PolyLite 3D Printer LW-PLA for Printing RC Plane, 190-210 °C Printing Temp. | High Rigidity | Easy to Paint',\n",
       "       'Dryer Box of 3D Printer Filament, Enisina 3D Filament Dryer Box 360° Even Heating Filament, Compatible with 1.75mm, 2.85mm, 3.00mm Filament and PLA/PETG/TPU/ABS 3D Printer Filament (Black&White)',\n",
       "       \"3Doodler Start 3D Printing Filament Refill Tube (X100 Strands, Over 830'. of Extruded Plastic!) - Ocean Blue, Compatible with Start 3D Pen for Kids\",\n",
       "       '3Doodler Create Mixed Colors ABS 3D Printing Filament Refill Pack (X25 Strands of Plastic) - Bohemian Blend AB-Mix7'],\n",
       "      dtype='<U202')"
      ]
     },
     "execution_count": 167,
     "metadata": {},
     "output_type": "execute_result"
    }
   ],
   "source": [
    "np.array(low_confidence_titles)[expected_labels != labeled_low_conf]"
   ]
  },
  {
   "cell_type": "code",
   "execution_count": 126,
   "metadata": {},
   "outputs": [
    {
     "data": {
      "text/html": [
       "<div>\n",
       "<style scoped>\n",
       "    .dataframe tbody tr th:only-of-type {\n",
       "        vertical-align: middle;\n",
       "    }\n",
       "\n",
       "    .dataframe tbody tr th {\n",
       "        vertical-align: top;\n",
       "    }\n",
       "\n",
       "    .dataframe thead th {\n",
       "        text-align: right;\n",
       "    }\n",
       "</style>\n",
       "<table border=\"1\" class=\"dataframe\">\n",
       "  <thead>\n",
       "    <tr style=\"text-align: right;\">\n",
       "      <th></th>\n",
       "      <th>main_category</th>\n",
       "      <th>title</th>\n",
       "      <th>average_rating</th>\n",
       "      <th>rating_number</th>\n",
       "      <th>features</th>\n",
       "      <th>description</th>\n",
       "      <th>price</th>\n",
       "      <th>store</th>\n",
       "      <th>categories</th>\n",
       "      <th>details</th>\n",
       "      <th>first_available</th>\n",
       "      <th>review_count</th>\n",
       "      <th>relevant</th>\n",
       "      <th>labeled</th>\n",
       "      <th>confidence</th>\n",
       "    </tr>\n",
       "    <tr>\n",
       "      <th>parent_asin</th>\n",
       "      <th></th>\n",
       "      <th></th>\n",
       "      <th></th>\n",
       "      <th></th>\n",
       "      <th></th>\n",
       "      <th></th>\n",
       "      <th></th>\n",
       "      <th></th>\n",
       "      <th></th>\n",
       "      <th></th>\n",
       "      <th></th>\n",
       "      <th></th>\n",
       "      <th></th>\n",
       "      <th></th>\n",
       "      <th></th>\n",
       "    </tr>\n",
       "  </thead>\n",
       "  <tbody>\n",
       "    <tr>\n",
       "      <th>B079FN3D86</th>\n",
       "      <td>Industrial &amp; Scientific</td>\n",
       "      <td>[Open Filament] da Vinci Super 3D Printer &amp; Up...</td>\n",
       "      <td>2.9</td>\n",
       "      <td>6</td>\n",
       "      <td>[\"Open filament system: the da Vinci super has...</td>\n",
       "      <td>[]</td>\n",
       "      <td>2782.74</td>\n",
       "      <td>XYZprinting</td>\n",
       "      <td>[\"Industrial &amp; Scientific\",\"Additive Manufactu...</td>\n",
       "      <td>{}</td>\n",
       "      <td>NaT</td>\n",
       "      <td>5.0</td>\n",
       "      <td>NaN</td>\n",
       "      <td>False</td>\n",
       "      <td>0.848594</td>\n",
       "    </tr>\n",
       "    <tr>\n",
       "      <th>B073MRVXN5</th>\n",
       "      <td>Industrial &amp; Scientific</td>\n",
       "      <td>Dremel DigiLab 3D45-01 3D Printer with Filamen...</td>\n",
       "      <td>4.4</td>\n",
       "      <td>573</td>\n",
       "      <td>[\"ADVANCED 3D PRINTING: The Dremel Digilab 3D4...</td>\n",
       "      <td>[\"Dremel, your go-to brand for all your 3D pri...</td>\n",
       "      <td>1999.00</td>\n",
       "      <td>Dremel</td>\n",
       "      <td>[\"Industrial &amp; Scientific\",\"Additive Manufactu...</td>\n",
       "      <td>{\"Brand\":\"Dremel\",\"Material\":\"Abs\",\"Color\":\"Bl...</td>\n",
       "      <td>2017-07-01</td>\n",
       "      <td>379.0</td>\n",
       "      <td>NaN</td>\n",
       "      <td>False</td>\n",
       "      <td>0.794276</td>\n",
       "    </tr>\n",
       "    <tr>\n",
       "      <th>B07KGTF7QS</th>\n",
       "      <td>Industrial &amp; Scientific</td>\n",
       "      <td>Dremel DigiLab 3D40-FLX-01 3D Printer with Fil...</td>\n",
       "      <td>4.6</td>\n",
       "      <td>90</td>\n",
       "      <td>[\"THE FLEXIBLE OPTION: Designed for a truly se...</td>\n",
       "      <td>[\"Dremel, your go-to brand for all your 3D pri...</td>\n",
       "      <td>1499.00</td>\n",
       "      <td>Dremel</td>\n",
       "      <td>[\"Industrial &amp; Scientific\",\"Additive Manufactu...</td>\n",
       "      <td>{\"Brand\":\"Dremel\",\"Material\":\"Metal\",\"Color\":\"...</td>\n",
       "      <td>2019-01-15</td>\n",
       "      <td>42.0</td>\n",
       "      <td>NaN</td>\n",
       "      <td>False</td>\n",
       "      <td>0.781418</td>\n",
       "    </tr>\n",
       "    <tr>\n",
       "      <th>B01N374ZFS</th>\n",
       "      <td>Industrial &amp; Scientific</td>\n",
       "      <td>STANLEY Model 1 3D Printer, Heated Printer Bed...</td>\n",
       "      <td>4.0</td>\n",
       "      <td>15</td>\n",
       "      <td>[\"Automatically loads and unloads the printing...</td>\n",
       "      <td>[]</td>\n",
       "      <td>799.99</td>\n",
       "      <td>Stanley</td>\n",
       "      <td>[\"Industrial &amp; Scientific\",\"Additive Manufactu...</td>\n",
       "      <td>{\"Brand\":\"STANLEY\",\"Material\":\"PLA and ABS\",\"C...</td>\n",
       "      <td>2017-03-25</td>\n",
       "      <td>7.0</td>\n",
       "      <td>NaN</td>\n",
       "      <td>False</td>\n",
       "      <td>0.811664</td>\n",
       "    </tr>\n",
       "    <tr>\n",
       "      <th>B079KZQ69C</th>\n",
       "      <td>Industrial &amp; Scientific</td>\n",
       "      <td>DOBOT MOOZ - 3D Printer 3 in 1 Industrial Grad...</td>\n",
       "      <td>3.2</td>\n",
       "      <td>21</td>\n",
       "      <td>[\"Full Aluminum 3D Printer with Industrial-gra...</td>\n",
       "      <td>[\"Shipping List:1. Mooz Double Z-axis 3D Print...</td>\n",
       "      <td>754.38</td>\n",
       "      <td>Dobot</td>\n",
       "      <td>[\"Industrial &amp; Scientific\",\"Additive Manufactu...</td>\n",
       "      <td>{\"Brand\":\"DOBOT\",\"Material\":\"Aluminum,Pla\",\"Co...</td>\n",
       "      <td>2018-02-04</td>\n",
       "      <td>6.0</td>\n",
       "      <td>NaN</td>\n",
       "      <td>False</td>\n",
       "      <td>0.807570</td>\n",
       "    </tr>\n",
       "    <tr>\n",
       "      <th>...</th>\n",
       "      <td>...</td>\n",
       "      <td>...</td>\n",
       "      <td>...</td>\n",
       "      <td>...</td>\n",
       "      <td>...</td>\n",
       "      <td>...</td>\n",
       "      <td>...</td>\n",
       "      <td>...</td>\n",
       "      <td>...</td>\n",
       "      <td>...</td>\n",
       "      <td>...</td>\n",
       "      <td>...</td>\n",
       "      <td>...</td>\n",
       "      <td>...</td>\n",
       "      <td>...</td>\n",
       "    </tr>\n",
       "    <tr>\n",
       "      <th>B08V5KFB26</th>\n",
       "      <td>Office Products</td>\n",
       "      <td>SainSmart 1.75mm Nylon Filament, ePA-GF Glass ...</td>\n",
       "      <td>4.6</td>\n",
       "      <td>2</td>\n",
       "      <td>[\"[Incredible Strong] Take prototyping to the ...</td>\n",
       "      <td>[\"OVERVIEW\",\"The Nylon Filament Blended with G...</td>\n",
       "      <td>NaN</td>\n",
       "      <td>SainSmart</td>\n",
       "      <td>[\"Industrial &amp; Scientific\",\"Additive Manufactu...</td>\n",
       "      <td>{\"Manufacturer\":\"SainSmart\",\"Brand\":\"SainSmart...</td>\n",
       "      <td>2021-01-27</td>\n",
       "      <td>5.0</td>\n",
       "      <td>NaN</td>\n",
       "      <td>True</td>\n",
       "      <td>0.830847</td>\n",
       "    </tr>\n",
       "    <tr>\n",
       "      <th>B09VGCYV7V</th>\n",
       "      <td>Office Products</td>\n",
       "      <td>NHH PLA Filament 1.75mm, 3D Printer Consumable...</td>\n",
       "      <td>3.6</td>\n",
       "      <td>9</td>\n",
       "      <td>[\"PLA Matte as extension of our PLA portfolio,...</td>\n",
       "      <td>[\"Polylactic Acid\",\"PLA is an easy-to-use biod...</td>\n",
       "      <td>NaN</td>\n",
       "      <td>NHH</td>\n",
       "      <td>[\"Industrial &amp; Scientific\",\"Additive Manufactu...</td>\n",
       "      <td>{\"Manufacturer\":\"NHH\",\"Brand\":\"NHH\",\"Item Weig...</td>\n",
       "      <td>2022-03-29</td>\n",
       "      <td>5.0</td>\n",
       "      <td>NaN</td>\n",
       "      <td>True</td>\n",
       "      <td>0.879074</td>\n",
       "    </tr>\n",
       "    <tr>\n",
       "      <th>B0BNNP5ZST</th>\n",
       "      <td>Office Products</td>\n",
       "      <td>Silk PLA Filament 1.75mm,ENISINA Silk Dual Col...</td>\n",
       "      <td>4.8</td>\n",
       "      <td>342</td>\n",
       "      <td>[\"Printing temperature: The recommended printi...</td>\n",
       "      <td>[]</td>\n",
       "      <td>NaN</td>\n",
       "      <td>Enisina</td>\n",
       "      <td>[\"Industrial &amp; Scientific\",\"Additive Manufactu...</td>\n",
       "      <td>{\"Manufacturer\":\"Shenzhen Eryone Technology Co...</td>\n",
       "      <td>2022-12-01</td>\n",
       "      <td>5.0</td>\n",
       "      <td>NaN</td>\n",
       "      <td>True</td>\n",
       "      <td>0.872555</td>\n",
       "    </tr>\n",
       "    <tr>\n",
       "      <th>B0BQKY72N2</th>\n",
       "      <td>Office Products</td>\n",
       "      <td>YOUSU PLA Plus (PLA+) Filament 1.75mm,Professi...</td>\n",
       "      <td>4.8</td>\n",
       "      <td>10</td>\n",
       "      <td>[\"\\u30105 Times Higher Toughness than PLA\\u301...</td>\n",
       "      <td>[\"///\"]</td>\n",
       "      <td>NaN</td>\n",
       "      <td>Yousu</td>\n",
       "      <td>[\"Industrial &amp; Scientific\",\"Additive Manufactu...</td>\n",
       "      <td>{\"Manufacturer\":\"YOUSU\",\"Brand\":\"Yousu\",\"Item ...</td>\n",
       "      <td>2022-12-19</td>\n",
       "      <td>5.0</td>\n",
       "      <td>NaN</td>\n",
       "      <td>True</td>\n",
       "      <td>0.887451</td>\n",
       "    </tr>\n",
       "    <tr>\n",
       "      <th>B08HYQYV1P</th>\n",
       "      <td>Office Products</td>\n",
       "      <td>PRILINE PETG-1KG 1.75 3D Printer Filament, Dim...</td>\n",
       "      <td>4.2</td>\n",
       "      <td>89</td>\n",
       "      <td>[\"Material: PETG (Polyethylene terephthalate g...</td>\n",
       "      <td>[\"PETG 3D printer filament\",\"Material Characte...</td>\n",
       "      <td>NaN</td>\n",
       "      <td>PRILINE</td>\n",
       "      <td>[\"Industrial &amp; Scientific\",\"Additive Manufactu...</td>\n",
       "      <td>{\"Manufacturer\":\"Priline\",\"Brand\":\"PRILINE\",\"I...</td>\n",
       "      <td>2020-09-14</td>\n",
       "      <td>5.0</td>\n",
       "      <td>NaN</td>\n",
       "      <td>True</td>\n",
       "      <td>0.958027</td>\n",
       "    </tr>\n",
       "  </tbody>\n",
       "</table>\n",
       "<p>2782 rows × 15 columns</p>\n",
       "</div>"
      ],
      "text/plain": [
       "                       main_category  \\\n",
       "parent_asin                            \n",
       "B079FN3D86   Industrial & Scientific   \n",
       "B073MRVXN5   Industrial & Scientific   \n",
       "B07KGTF7QS   Industrial & Scientific   \n",
       "B01N374ZFS   Industrial & Scientific   \n",
       "B079KZQ69C   Industrial & Scientific   \n",
       "...                              ...   \n",
       "B08V5KFB26           Office Products   \n",
       "B09VGCYV7V           Office Products   \n",
       "B0BNNP5ZST           Office Products   \n",
       "B0BQKY72N2           Office Products   \n",
       "B08HYQYV1P           Office Products   \n",
       "\n",
       "                                                         title  \\\n",
       "parent_asin                                                      \n",
       "B079FN3D86   [Open Filament] da Vinci Super 3D Printer & Up...   \n",
       "B073MRVXN5   Dremel DigiLab 3D45-01 3D Printer with Filamen...   \n",
       "B07KGTF7QS   Dremel DigiLab 3D40-FLX-01 3D Printer with Fil...   \n",
       "B01N374ZFS   STANLEY Model 1 3D Printer, Heated Printer Bed...   \n",
       "B079KZQ69C   DOBOT MOOZ - 3D Printer 3 in 1 Industrial Grad...   \n",
       "...                                                        ...   \n",
       "B08V5KFB26   SainSmart 1.75mm Nylon Filament, ePA-GF Glass ...   \n",
       "B09VGCYV7V   NHH PLA Filament 1.75mm, 3D Printer Consumable...   \n",
       "B0BNNP5ZST   Silk PLA Filament 1.75mm,ENISINA Silk Dual Col...   \n",
       "B0BQKY72N2   YOUSU PLA Plus (PLA+) Filament 1.75mm,Professi...   \n",
       "B08HYQYV1P   PRILINE PETG-1KG 1.75 3D Printer Filament, Dim...   \n",
       "\n",
       "             average_rating  rating_number  \\\n",
       "parent_asin                                  \n",
       "B079FN3D86              2.9              6   \n",
       "B073MRVXN5              4.4            573   \n",
       "B07KGTF7QS              4.6             90   \n",
       "B01N374ZFS              4.0             15   \n",
       "B079KZQ69C              3.2             21   \n",
       "...                     ...            ...   \n",
       "B08V5KFB26              4.6              2   \n",
       "B09VGCYV7V              3.6              9   \n",
       "B0BNNP5ZST              4.8            342   \n",
       "B0BQKY72N2              4.8             10   \n",
       "B08HYQYV1P              4.2             89   \n",
       "\n",
       "                                                      features  \\\n",
       "parent_asin                                                      \n",
       "B079FN3D86   [\"Open filament system: the da Vinci super has...   \n",
       "B073MRVXN5   [\"ADVANCED 3D PRINTING: The Dremel Digilab 3D4...   \n",
       "B07KGTF7QS   [\"THE FLEXIBLE OPTION: Designed for a truly se...   \n",
       "B01N374ZFS   [\"Automatically loads and unloads the printing...   \n",
       "B079KZQ69C   [\"Full Aluminum 3D Printer with Industrial-gra...   \n",
       "...                                                        ...   \n",
       "B08V5KFB26   [\"[Incredible Strong] Take prototyping to the ...   \n",
       "B09VGCYV7V   [\"PLA Matte as extension of our PLA portfolio,...   \n",
       "B0BNNP5ZST   [\"Printing temperature: The recommended printi...   \n",
       "B0BQKY72N2   [\"\\u30105 Times Higher Toughness than PLA\\u301...   \n",
       "B08HYQYV1P   [\"Material: PETG (Polyethylene terephthalate g...   \n",
       "\n",
       "                                                   description    price  \\\n",
       "parent_asin                                                               \n",
       "B079FN3D86                                                  []  2782.74   \n",
       "B073MRVXN5   [\"Dremel, your go-to brand for all your 3D pri...  1999.00   \n",
       "B07KGTF7QS   [\"Dremel, your go-to brand for all your 3D pri...  1499.00   \n",
       "B01N374ZFS                                                  []   799.99   \n",
       "B079KZQ69C   [\"Shipping List:1. Mooz Double Z-axis 3D Print...   754.38   \n",
       "...                                                        ...      ...   \n",
       "B08V5KFB26   [\"OVERVIEW\",\"The Nylon Filament Blended with G...      NaN   \n",
       "B09VGCYV7V   [\"Polylactic Acid\",\"PLA is an easy-to-use biod...      NaN   \n",
       "B0BNNP5ZST                                                  []      NaN   \n",
       "B0BQKY72N2                                             [\"///\"]      NaN   \n",
       "B08HYQYV1P   [\"PETG 3D printer filament\",\"Material Characte...      NaN   \n",
       "\n",
       "                   store                                         categories  \\\n",
       "parent_asin                                                                   \n",
       "B079FN3D86   XYZprinting  [\"Industrial & Scientific\",\"Additive Manufactu...   \n",
       "B073MRVXN5        Dremel  [\"Industrial & Scientific\",\"Additive Manufactu...   \n",
       "B07KGTF7QS        Dremel  [\"Industrial & Scientific\",\"Additive Manufactu...   \n",
       "B01N374ZFS       Stanley  [\"Industrial & Scientific\",\"Additive Manufactu...   \n",
       "B079KZQ69C         Dobot  [\"Industrial & Scientific\",\"Additive Manufactu...   \n",
       "...                  ...                                                ...   \n",
       "B08V5KFB26     SainSmart  [\"Industrial & Scientific\",\"Additive Manufactu...   \n",
       "B09VGCYV7V           NHH  [\"Industrial & Scientific\",\"Additive Manufactu...   \n",
       "B0BNNP5ZST       Enisina  [\"Industrial & Scientific\",\"Additive Manufactu...   \n",
       "B0BQKY72N2         Yousu  [\"Industrial & Scientific\",\"Additive Manufactu...   \n",
       "B08HYQYV1P       PRILINE  [\"Industrial & Scientific\",\"Additive Manufactu...   \n",
       "\n",
       "                                                       details  \\\n",
       "parent_asin                                                      \n",
       "B079FN3D86                                                  {}   \n",
       "B073MRVXN5   {\"Brand\":\"Dremel\",\"Material\":\"Abs\",\"Color\":\"Bl...   \n",
       "B07KGTF7QS   {\"Brand\":\"Dremel\",\"Material\":\"Metal\",\"Color\":\"...   \n",
       "B01N374ZFS   {\"Brand\":\"STANLEY\",\"Material\":\"PLA and ABS\",\"C...   \n",
       "B079KZQ69C   {\"Brand\":\"DOBOT\",\"Material\":\"Aluminum,Pla\",\"Co...   \n",
       "...                                                        ...   \n",
       "B08V5KFB26   {\"Manufacturer\":\"SainSmart\",\"Brand\":\"SainSmart...   \n",
       "B09VGCYV7V   {\"Manufacturer\":\"NHH\",\"Brand\":\"NHH\",\"Item Weig...   \n",
       "B0BNNP5ZST   {\"Manufacturer\":\"Shenzhen Eryone Technology Co...   \n",
       "B0BQKY72N2   {\"Manufacturer\":\"YOUSU\",\"Brand\":\"Yousu\",\"Item ...   \n",
       "B08HYQYV1P   {\"Manufacturer\":\"Priline\",\"Brand\":\"PRILINE\",\"I...   \n",
       "\n",
       "            first_available  review_count relevant  labeled  confidence  \n",
       "parent_asin                                                              \n",
       "B079FN3D86              NaT           5.0      NaN    False    0.848594  \n",
       "B073MRVXN5       2017-07-01         379.0      NaN    False    0.794276  \n",
       "B07KGTF7QS       2019-01-15          42.0      NaN    False    0.781418  \n",
       "B01N374ZFS       2017-03-25           7.0      NaN    False    0.811664  \n",
       "B079KZQ69C       2018-02-04           6.0      NaN    False    0.807570  \n",
       "...                     ...           ...      ...      ...         ...  \n",
       "B08V5KFB26       2021-01-27           5.0      NaN     True    0.830847  \n",
       "B09VGCYV7V       2022-03-29           5.0      NaN     True    0.879074  \n",
       "B0BNNP5ZST       2022-12-01           5.0      NaN     True    0.872555  \n",
       "B0BQKY72N2       2022-12-19           5.0      NaN     True    0.887451  \n",
       "B08HYQYV1P       2020-09-14           5.0      NaN     True    0.958027  \n",
       "\n",
       "[2782 rows x 15 columns]"
      ]
     },
     "execution_count": 126,
     "metadata": {},
     "output_type": "execute_result"
    }
   ],
   "source": [
    "data_manual_low_conf = full_data.copy(deep=True)\n",
    "data_manual_low_conf['relevant'] = np.nan\n",
    "data_manual_low_conf.loc[data_manual_low_conf.index.isin(manual_labeled.index), 'relevant'] = manual_labeled['relevant']\n",
    "data_manual_low_conf.loc[low_conf_rel_idxs, 'relevant'] = labeled_low_conf[:sum(low_conf_rel_idxs)]\n",
    "data_manual_low_conf.loc[low_conf_irr_idxs, 'relevant'] = labeled_low_conf[sum(low_conf_rel_idxs):]\n",
    "data_manual_low_conf"
   ]
  },
  {
   "cell_type": "code",
   "execution_count": 130,
   "metadata": {},
   "outputs": [],
   "source": [
    "ensemble_fit_predict(data_manual_low_conf, sent_encoded)"
   ]
  },
  {
   "cell_type": "code",
   "execution_count": 149,
   "metadata": {},
   "outputs": [],
   "source": [
    "data_manual_low_conf['relevant'] = data_manual_low_conf['relevant'].astype(float)"
   ]
  },
  {
   "cell_type": "code",
   "execution_count": 150,
   "metadata": {},
   "outputs": [
    {
     "data": {
      "text/plain": [
       "relevant\n",
       "NaN    2120\n",
       "1.0     555\n",
       "0.0     107\n",
       "Name: count, dtype: int64"
      ]
     },
     "execution_count": 150,
     "metadata": {},
     "output_type": "execute_result"
    }
   ],
   "source": [
    "data_manual_low_conf['relevant'].value_counts(dropna=False)"
   ]
  },
  {
   "cell_type": "code",
   "execution_count": 151,
   "metadata": {},
   "outputs": [
    {
     "data": {
      "image/png": "[encoded data removed]",
      "text/plain": [
       "<Figure size 500x250 with 1 Axes>"
      ]
     },
     "metadata": {},
     "output_type": "display_data"
    }
   ],
   "source": [
    "plot_confidence(data_manual_low_conf)"
   ]
  },
  {
   "cell_type": "code",
   "execution_count": 163,
   "metadata": {},
   "outputs": [
    {
     "data": {
      "text/plain": [
       "['Gizmo Dorks ABS Filament for 3D Printers 1.75mm 5kg, Black',\n",
       " '2.85mm 3D Printing Filament Connector Gen2 3D Printer Accessories Easy Operate for Filament 2.85mm PLA/ABS/PC/PETG/TPU Material…',\n",
       " 'Open Smart Tag for XYZPrinting 3D Printers Compatible with 3rd Party Filament Open Source 3D Printing Filaments with Different Materials PLA PETG ABS Carbon',\n",
       " '6 Pieces 3D Printer Filament Bundle 1.75mm PLA Printing PEGT, Silk Material Each Roll 200g Vacuum Packaging Printing Filament Dryer Rainbow Filament Supplies(Modern Colors,PLA)',\n",
       " '3Doodler Create PLA 3D Printing Filament Refill Bag (x250 Strands, Over 2000 ft. of Extruded Plastic) - Bud & Bloom',\n",
       " '3D Pen Filament with Silicon Design Mat and Compatible Stencils Book with 12 Templates - 1.75mm PLA Plastic Refills - 360 Feet of Assorted Filament for 3D Drawing and Doodling',\n",
       " 'Pomatoy 10x7ft Golf Practice Net High-Precision Diameter Pen PLA Filament for 3D Printer, Smooth Printing Refills for Easy 3D Art, Safe for Kids',\n",
       " '3D Pen Filament Fun Pack - 11 Colors - for Use with Scribbler 3D Pen + All 3D Pens Except 3D Doodler - ABS 1.75mm 3D Pen Refills for 3 D Pen',\n",
       " 'Robotic Steel Metallic Silvery Steel 3D Printing PLA Filament \\xa0(1.75mm 0.5 kg) Made in The USA',\n",
       " 'MagicBiu 3D Printer Printing Pen Filament Refill(16 Colors, 320 Feet), Bonus 8 Drawing Stencils, Finger Caps, PVC Drawing Board, 1.75mm PLA Compatible for Dikale Tecboss Nulaxy etc(Not Fit 3Doodler)',\n",
       " \"3Doodler Start 3D Printing Filament Refill Tube (X100 Strands, Over 830'. of Extruded Plastics!) - Charcoal Black, Compatible with Start 3D Pen for Kids\",\n",
       " 'Dremel DF45-ECO-B Eco-ABS 3D Printer Filament, 1.75 mm Diameter, Black',\n",
       " '3Doodler Create PLA 3D Printing Filament Refill Bag (x250 Strands, Over 2000 ft. of Extruded Plastic) - Neon Sunset',\n",
       " '4 Spools of 3D Printlife Filament Bundle with Dremel Digilab 3D45 Award Winning 3D Printer, Idea Builder with Heated Build Plate to Print Nylon, ECO ABS, PETG, PLA at 50 Micron Resolution',\n",
       " 'Filament Dryer for 3D Printing, TECBEARS FilaDryer S2 Filament Dry Box with 360° Heating, Large Touch Screen, Humidity Detection for Nylon PETG ABS TPU PA PC PLA Filament 1.75/2.85/3.00mm',\n",
       " \"MakerBot PLA 3D Printing Filament Large Spool for Use with MakerBot's Replicator+ & 5th Generation Line of 3D Printers, Non-Toxic Resin, 1.75mm Diameter, Cool Gray (MP05784)\",\n",
       " 'Multi-Filament(PLA,ABS,PCL) 3D Printing Pen w/ 1.75mm PLA Filament (14-Piece Set) Kids and Adults Drawing, Writing, Creating 3-D Arts and Crafts Projects | LED Display, Birthday Gift',\n",
       " '3Doodler Start 3D Printing Filament Refill Bundle (x6 Packs, Over 700 ft. of Extruded Plastics!) - Really Rainbow, Compatible with Start 3D Pen for Kids']"
      ]
     },
     "execution_count": 163,
     "metadata": {},
     "output_type": "execute_result"
    }
   ],
   "source": [
    "low_conf_rel_idxs2 = (data_manual_low_conf['confidence']<0.75)*(data_manual_low_conf['labeled'])\n",
    "low_conf_irr_idxs2 = (data_manual_low_conf['confidence']<0.75)*(~data_manual_low_conf['labeled'])\n",
    "\n",
    "low_confidence_titles2 = data_manual_low_conf.loc[low_conf_rel_idxs2, 'title'].tolist() + data_manual_low_conf.loc[low_conf_irr_idxs2, 'title'].tolist()\n",
    "low_confidence_titles2"
   ]
  },
  {
   "cell_type": "code",
   "execution_count": 152,
   "metadata": {},
   "outputs": [],
   "source": [
    "relevant_prods = data_manual_low_conf.index[data_manual_low_conf['labeled']]"
   ]
  },
  {
   "cell_type": "code",
   "execution_count": 153,
   "metadata": {},
   "outputs": [
    {
     "name": "stdout",
     "output_type": "stream",
     "text": [
      "True: 2291 (82.4%)\n",
      "False: 491 (17.6%)\n"
     ]
    }
   ],
   "source": [
    "NF.print_cat_statistics(data_manual_low_conf, 'labeled')"
   ]
  },
  {
   "cell_type": "code",
   "execution_count": 154,
   "metadata": {},
   "outputs": [],
   "source": [
    "data_manual_low_conf.loc[data_manual_low_conf['labeled'], :].to_parquet(os.path.join(DATA_DIR, 'relevant_products.par'))\n",
    "data_manual_low_conf.loc[~data_manual_low_conf['labeled'], :].to_parquet(os.path.join(DATA_DIR, 'irrelevant_products.par'))"
   ]
  },
  {
   "cell_type": "code",
   "execution_count": 155,
   "metadata": {},
   "outputs": [],
   "source": [
    "with open(os.path.join(DATA_DIR, 'relevant_prods.csv'), 'w') as f:\n",
    "    f.write(','.join([str(v) for v in relevant_prods]))"
   ]
  },
  {
   "cell_type": "code",
   "execution_count": 156,
   "metadata": {},
   "outputs": [],
   "source": [
    "reviews = pd.read_parquet(os.path.join(DATA_DIR, 'reviews.par'))"
   ]
  },
  {
   "cell_type": "code",
   "execution_count": 157,
   "metadata": {},
   "outputs": [],
   "source": [
    "relevant_reviews = reviews.loc[reviews['parent_asin'].isin(relevant_prods)]"
   ]
  },
  {
   "cell_type": "code",
   "execution_count": 158,
   "metadata": {},
   "outputs": [],
   "source": [
    "relevant_reviews.to_parquet(os.path.join(DATA_DIR, 'relevant_reviews.par'))"
   ]
  },
  {
   "cell_type": "code",
   "execution_count": 159,
   "metadata": {},
   "outputs": [
    {
     "data": {
      "text/plain": [
       "119105"
      ]
     },
     "execution_count": 159,
     "metadata": {},
     "output_type": "execute_result"
    }
   ],
   "source": [
    "len(relevant_reviews)"
   ]
  },
  {
   "cell_type": "code",
   "execution_count": 160,
   "metadata": {},
   "outputs": [],
   "source": [
    "vocab_map = {v:k for k,v in model.tokenizer.vocab.items()}\n",
    "token_ids = model.tokenizer(data_manual_low_conf.loc[data_manual_low_conf['labeled'], 'title'].values.tolist())['input_ids']\n",
    "\n",
    "words = []\n",
    "for sentence in token_ids:\n",
    "    words.extend([vocab_map[word] for word in sentence])\n",
    "\n",
    "values, counts = np.unique(words, return_counts=True)\n",
    "word_usage = pd.DataFrame({'values': values, 'counts': counts})\n",
    "word_usage.sort_values('counts', ascending=False, inplace=True)"
   ]
  },
  {
   "cell_type": "code",
   "execution_count": 161,
   "metadata": {},
   "outputs": [
    {
     "name": "stdout",
     "output_type": "stream",
     "text": [
      "           values  counts\n",
      "677             ,    5234\n",
      "679             .    5079\n",
      "690             1    4219\n",
      "1209           fi    3679\n",
      "331         ##lam    3671\n",
      "192         ##ent    3630\n",
      "779            3d    3401\n",
      "399          ##mm    2540\n",
      "68            ##a    2485\n",
      "1637           pl    2438\n",
      "678             -    2401\n",
      "822            75    2294\n",
      "851         [CLS]    2291\n",
      "852         [SEP]    2291\n",
      "729             2    2195\n",
      "224           ##g    2082\n",
      "1678      printer    2033\n",
      "315           ##k    1537\n",
      "673             (    1493\n",
      "674             )    1492\n",
      "680             /    1458\n",
      "676             +    1457\n",
      "1838           sp    1412\n",
      "681             0    1407\n",
      "449         ##ool    1400\n",
      "1511           mm    1040\n",
      "863      accuracy    1035\n",
      "1131  dimensional     918\n",
      "542           ##s     787\n",
      "337          ##lb     663\n",
      "1680     printing     601\n",
      "1239          for     579\n",
      "953         black     532\n",
      "685            02     470\n",
      "686            03     459\n",
      "1388           kg     434\n",
      "1626          pet     379\n",
      "1413          lbs     369\n",
      "2019        white     340\n",
      "1679     printers     331\n",
      "859           abs     327\n",
      "957          blue     322\n",
      "1060        color     297\n",
      "1198            f     290\n",
      "1809         silk     283\n",
      "169          ##dm     278\n",
      "1620          pen     272\n",
      "1729          red     252\n",
      "688            05     243\n",
      "1597         pack     241\n",
      "757             3     234\n",
      "1522         most     225\n",
      "34           ##3d     218\n",
      "1298        green     216\n",
      "1349           in     208\n",
      "2030         with     196\n",
      "1222          fit     182\n",
      "1063       colors     180\n",
      "795             5     174\n",
      "1732          ref     172\n",
      "1893            t     172\n",
      "286         ##ill     172\n",
      "1568           of     167\n",
      "172           ##e     148\n",
      "895           and     145\n",
      "496          ##pu     143\n",
      "1469     material     140\n",
      "834            85     135\n",
      "1125     diameter     131\n",
      "428           ##o     130\n",
      "1802        shiny     129\n",
      "1205         feet     125\n",
      "1103         dark     124\n",
      "1911          the     122\n",
      "1700       purple     121\n",
      "1881          sun     116\n",
      "373          ##lu     114\n",
      "1279         glow     112\n",
      "663           ##z     112\n",
      "781             4     111\n",
      "1682          pro     108\n",
      "671             &     108\n",
      "142          ##ch     107\n",
      "3             ##0     106\n",
      "615          ##un     106\n",
      "1657         poly     104\n",
      "1652         plus     104\n",
      "937        basics     102\n",
      "1185           es     102\n",
      "1299         grey     102\n",
      "892        amazon     101\n",
      "2043       yellow     100\n",
      "1282         gold     100\n",
      "996        bundle      97\n",
      "645           ##x      94\n",
      "45            ##5      93\n",
      "627         ##ute      92\n",
      "1830          sol      91\n",
      "1456        maker      88\n",
      "197          ##er      88\n"
     ]
    }
   ],
   "source": [
    "with pd.option_context('display.max_rows', 100):\n",
    "    print(word_usage.head(100))"
   ]
  },
  {
   "cell_type": "code",
   "execution_count": null,
   "metadata": {},
   "outputs": [],
   "source": []
  }
 ],
 "metadata": {
  "kernelspec": {
   "display_name": ".venv",
   "language": "python",
   "name": "python3"
  },
  "language_info": {
   "codemirror_mode": {
    "name": "ipython",
    "version": 3
   },
   "file_extension": ".py",
   "mimetype": "text/x-python",
   "name": "python",
   "nbconvert_exporter": "python",
   "pygments_lexer": "ipython3",
   "version": "3.11.6"
  }
 },
 "nbformat": 4,
 "nbformat_minor": 2
}
