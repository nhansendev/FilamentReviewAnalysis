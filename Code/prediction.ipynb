{
 "cells": [
  {
   "cell_type": "code",
   "execution_count": 1,
   "metadata": {},
   "outputs": [],
   "source": [
    "import os\n",
    "import numpy as np\n",
    "import pandas as pd\n",
    "import matplotlib.pyplot as plt\n",
    "\n",
    "import nlp_functions as NF\n",
    "\n",
    "from sentence_transformers import SentenceTransformer\n",
    "\n",
    "from sklearn.svm import SVC\n",
    "from sklearn.metrics import pairwise_distances\n",
    "from sklearn.naive_bayes import BernoulliNB\n",
    "\n",
    "from constants import DATA_DIR, RANDOM_SEED"
   ]
  },
  {
   "cell_type": "code",
   "execution_count": 2,
   "metadata": {},
   "outputs": [],
   "source": [
    "def distance_cluster(df, encoded, known):\n",
    "    # Assign Clusters Based on Prototypes\n",
    "    distances = pairwise_distances(encoded[known], encoded[~known])\n",
    "    dmax = np.max(distances)\n",
    "    dmin = np.min(distances)\n",
    "    nearest = np.argmin(distances, axis=0)\n",
    "    prob = 1-(np.min(distances, 0)-dmin)/(dmax-dmin)\n",
    "\n",
    "    # Get labels of nearest labeled points\n",
    "    pred_labels = df.loc[known, 'relevant'].values[nearest]\n",
    "    return pred_labels, np.vstack((prob, prob)).T # np.ones((len(pred_labels), 2)) # *0.75\n",
    "\n",
    "\n",
    "def model_fit_predict(model, df, encoded, known):\n",
    "    try:\n",
    "        # Provide random seed for reproducibility, if relevent\n",
    "        M = model(random_state=RANDOM_SEED, probability=True)\n",
    "    except TypeError:\n",
    "        M = model()\n",
    "    M.fit(encoded[known], df.loc[known, 'relevant'].astype(int))\n",
    "\n",
    "    return M.predict(encoded[~known]), M.predict_proba(encoded[~known])\n",
    "\n",
    "\n",
    "def ensemble_fit_predict(df, encoded):\n",
    "    # \"relevant\" column contains manually generated labels for training\n",
    "    # \"labeled\" column contains both manually generated and predicted labels\n",
    "\n",
    "    models = [distance_cluster, SVC, BernoulliNB]\n",
    "\n",
    "    known = ~df['relevant'].isna()\n",
    "\n",
    "    preds = []\n",
    "    probs = []\n",
    "    for i, model in enumerate(models):\n",
    "        if i == 0:\n",
    "            pred, prob = model(df, encoded, known)\n",
    "        else:\n",
    "            pred, prob = model_fit_predict(model, df, encoded, known)\n",
    "        preds.append(pred)\n",
    "        probs.append(prob)\n",
    "\n",
    "    df['predicted'] = np.nan\n",
    "    # Copy known labels\n",
    "    df.loc[known, 'predicted'] = df.loc[known, 'relevant'].astype(bool)\n",
    "    # Fill in new predictions\n",
    "    df.loc[~known, 'predicted'] = np.mean(preds, axis=0)>0.5\n",
    "    # Fill in confidence of new predictions\n",
    "    df.loc[~known, 'confidence'] = np.max(np.mean(np.array(probs), 0), 1)"
   ]
  },
  {
   "cell_type": "code",
   "execution_count": 3,
   "metadata": {},
   "outputs": [],
   "source": [
    "# Read manually labeled data and all relevant products\n",
    "manual_labeled = pd.read_parquet(os.path.join(DATA_DIR, 'partial_labeled_100.par'))\n",
    "full_data = pd.read_parquet(os.path.join(DATA_DIR, 'fil_products_5rev.par'))\n",
    "full_data['relevant'] = np.nan\n",
    "# Copy known labels to relevant products\n",
    "full_data.loc[full_data.index.isin(manual_labeled.index), 'relevant'] = manual_labeled['relevant']\n",
    "full_data.loc[full_data.index.isin(manual_labeled.index), 'confidence'] = 1\n",
    "full_data.sort_values('title', key=lambda x: x.str.len(), inplace=True)"
   ]
  },
  {
   "cell_type": "code",
   "execution_count": 4,
   "metadata": {},
   "outputs": [],
   "source": [
    "# Use Sentence Transformer to create title embeddings\n",
    "model = SentenceTransformer('all-MiniLM-L12-v2')\n",
    "sent_encoded = model.encode(full_data[\"title\"].values, convert_to_tensor=False)"
   ]
  },
  {
   "cell_type": "code",
   "execution_count": 5,
   "metadata": {},
   "outputs": [],
   "source": [
    "# Train ensemble on encodings and labels for manual_labeled\n",
    "# and predict on unlabeled portion of full_data\n",
    "ensemble_fit_predict(full_data, sent_encoded)"
   ]
  },
  {
   "cell_type": "code",
   "execution_count": 6,
   "metadata": {},
   "outputs": [
    {
     "name": "stdout",
     "output_type": "stream",
     "text": [
      "True: 2279 (81.9%)\n",
      "False: 503 (18.1%)\n"
     ]
    }
   ],
   "source": [
    "NF.print_cat_statistics(full_data, 'predicted')"
   ]
  },
  {
   "cell_type": "code",
   "execution_count": 7,
   "metadata": {},
   "outputs": [],
   "source": [
    "def plot_confidence(df):\n",
    "    # Show estimated model confidence for predicted labels\n",
    "    counts, bins, bars = plt.hist(df.loc[df['predicted'] == True, 'confidence'], 50, histtype='step')\n",
    "    plt.hist(df.loc[df['predicted'] == False, 'confidence'], bins, histtype='step')\n",
    "    plt.yscale('log')\n",
    "    plt.xlabel('Confidence')\n",
    "    plt.ylabel('Count (log)')\n",
    "    plt.title('Predicted Label Confidence')\n",
    "    plt.legend(['Relevant', 'Irrelevant'])\n",
    "    plt.gcf().set_size_inches(5, 2.5)\n",
    "    plt.vlines(0.75, 0, max(counts), 'k', 'dashed')\n",
    "    plt.text(0.75, max(counts), f\"<0.75: \\n{sum(df['confidence']<0.75)} \", va='top', ha='right')\n",
    "    plt.show()"
   ]
  },
  {
   "cell_type": "code",
   "execution_count": 8,
   "metadata": {},
   "outputs": [
    {
     "data": {
      "image/png": "[encoded data removed]",
      "text/plain": [
       "<Figure size 500x250 with 1 Axes>"
      ]
     },
     "metadata": {},
     "output_type": "display_data"
    }
   ],
   "source": [
    "plot_confidence(full_data)"
   ]
  },
  {
   "cell_type": "code",
   "execution_count": 9,
   "metadata": {},
   "outputs": [],
   "source": [
    "# Reset low-confidence entries\n",
    "low_confidence_idxs = (full_data['confidence']<0.75)\n",
    "low_confidence_labels = full_data.loc[low_confidence_idxs, 'predicted']\n",
    "\n",
    "full_data.loc[full_data['relevant'].isna(), 'relevant'] = 'TBD'\n",
    "full_data.loc[low_confidence_idxs, 'relevant'] = np.nan"
   ]
  },
  {
   "cell_type": "code",
   "execution_count": 10,
   "metadata": {},
   "outputs": [
    {
     "data": {
      "application/vnd.jupyter.widget-view+json": {
       "model_id": "3381f188c7b440c68db1bf432ec2c633",
       "version_major": 2,
       "version_minor": 0
      },
      "text/plain": [
       "VBox(children=(Text(value='126 Entries Remaining:'), HBox(children=(HBox(children=(Button(description='Relevan…"
      ]
     },
     "execution_count": 10,
     "metadata": {},
     "output_type": "execute_result"
    }
   ],
   "source": [
    "# Manual labeling UI. May take a moment to render\n",
    "NF.manual_individual_review(full_data)"
   ]
  },
  {
   "cell_type": "code",
   "execution_count": 13,
   "metadata": {},
   "outputs": [
    {
     "name": "stdout",
     "output_type": "stream",
     "text": [
      "nan: 2120 (76.2%)\n",
      "True: 556 (20.0%)\n",
      "False: 106 (3.8%)\n"
     ]
    }
   ],
   "source": [
    "full_data.loc[low_confidence_idxs, 'confidence'] = 1\n",
    "full_data.loc[full_data['relevant'] == 'TBD', 'relevant'] = np.nan\n",
    "NF.print_cat_statistics(full_data, 'relevant')"
   ]
  },
  {
   "cell_type": "code",
   "execution_count": 14,
   "metadata": {},
   "outputs": [
    {
     "name": "stdout",
     "output_type": "stream",
     "text": [
      "0\n"
     ]
    }
   ],
   "source": [
    "print(sum(full_data['title'].isna()))"
   ]
  },
  {
   "cell_type": "code",
   "execution_count": null,
   "metadata": {},
   "outputs": [],
   "source": [
    "full_data.to_parquet(os.path.join(DATA_DIR, 'reviewed_fil_prods.par'))\n",
    "# full_data = pd.read_parquet(os.path.join(DATA_DIR, 'reviewed_fil_prods.par'))"
   ]
  },
  {
   "cell_type": "code",
   "execution_count": 16,
   "metadata": {},
   "outputs": [
    {
     "data": {
      "text/plain": [
       "13"
      ]
     },
     "execution_count": 16,
     "metadata": {},
     "output_type": "execute_result"
    }
   ],
   "source": [
    "misclassified = sum(low_confidence_labels != full_data.loc[low_confidence_idxs, 'relevant'])\n",
    "misclassified"
   ]
  },
  {
   "cell_type": "code",
   "execution_count": 17,
   "metadata": {},
   "outputs": [
    {
     "data": {
      "text/plain": [
       "array(['Creality Ender 3 V2 3D Printer and PLA 3D Printer Filament Black',\n",
       "       '3doodler 2.0 3d Printing Pen + Free 130 Mixed Strands of Filament PLA & ABS',\n",
       "       'uxcell PTFE Tubing 3mm ID x 4mm OD x 2M 6.6ft for Filament PLA ABS 3D Printer',\n",
       "       'da Vinci Mini Wireless 3D Printer-6\"x6\"x6\" Volume (Includes: 300g Filament, PLA/Tough PLA/PETG)',\n",
       "       'ELEGOO Neptune 3D Printer FDM 3D Printer Full Metal Print Size 8”x8”x8” Compatible with TPU/PLA/ABS Filament',\n",
       "       '3Doodler Create Mixed Colors ABS 3D Printing Filament Refill Pack (X25 Strands of Plastic) - Bohemian Blend AB-Mix7',\n",
       "       \"3Doodler Start 3D Printing Filament Refill Tube (X100 Strands, Over 830'. of Extruded Plastic!) - Ocean Blue, Compatible with Start 3D Pen for Kids\",\n",
       "       'Tseriact Filament Welder Splicer - 1.75mm 3D Filament Connector Easy Operate Repair Broken 3D Filament for All Kind PLA/ABS/PETG/TPU/PC/PP/Hips Material',\n",
       "       'Sunhokey 3D Printer Filament Detection Sensor Module Filament Run-Out Pause Detecting Monitor for 3D Printer Lerdge Board 1.75mm PLA ABS Filament (1.75mm, Black, 2)',\n",
       "       \"MakerBot PLA 3D Printing Filament Large Spool for Use with MakerBot's Replicator+ & 5th Generation Line of 3D Printers, Non-Toxic Resin, 1.75mm Diameter, White (MP05780)\",\n",
       "       \"MakerBot PLA 3D Printing Filament Large Spool for Use with MakerBot's Replicator+ & 5th Generation Line of 3D Printers, Non-Toxic Resin, 1.75mm Diameter, White (MP05780)\",\n",
       "       \"MakerBot Tough PLA 3D Printing Filament Large Spool for Use with MakerBot's Replicator+, Fifth Generation and Z18 Line of 3D Printers, Non-Toxic Resin, 1.75mm Diameter, Stone White (375-0008A)\",\n",
       "       'Polymaker LW PLA Filament 1.75mm Wood, Pre-Foamed PLA 800g Lightweight 3D Filament - PolyLite 3D Printer LW-PLA for Printing RC Plane, 190-210 °C Printing Temp. | High Rigidity | Easy to Paint'],\n",
       "      dtype=object)"
      ]
     },
     "execution_count": 17,
     "metadata": {},
     "output_type": "execute_result"
    }
   ],
   "source": [
    "# Show misclassified titles\n",
    "np.array(full_data.loc[low_confidence_idxs, 'title'])[low_confidence_labels != full_data.loc[low_confidence_idxs, 'relevant']]"
   ]
  },
  {
   "cell_type": "code",
   "execution_count": null,
   "metadata": {},
   "outputs": [],
   "source": [
    "# Use the updated dataset to make new predictions\n",
    "new_predictions = full_data.copy(deep=True)\n",
    "ensemble_fit_predict(new_predictions, sent_encoded)\n",
    "NF.print_cat_statistics(new_predictions, 'predicted')"
   ]
  },
  {
   "cell_type": "code",
   "execution_count": null,
   "metadata": {},
   "outputs": [],
   "source": [
    "# Save predicted labels\n",
    "new_predictions.to_parquet(os.path.join(DATA_DIR, 'predicted_fil_prods.par'))"
   ]
  },
  {
   "cell_type": "code",
   "execution_count": null,
   "metadata": {},
   "outputs": [
    {
     "data": {
      "image/png": "[encoded data removed]",
      "text/plain": [
       "<Figure size 500x250 with 1 Axes>"
      ]
     },
     "metadata": {},
     "output_type": "display_data"
    }
   ],
   "source": [
    "# Show new confidence estimates\n",
    "plot_confidence(new_predictions)"
   ]
  },
  {
   "cell_type": "code",
   "execution_count": null,
   "metadata": {},
   "outputs": [
    {
     "name": "stdout",
     "output_type": "stream",
     "text": [
      "Predicted Relevant, Uncertain:\n",
      "['Gizmo Dorks ABS Filament for 3D Printers 1.75mm 5kg, Black'\n",
      " 'Dremel DF45-ECO-B Eco-ABS 3D Printer Filament, 1.75 mm Diameter, Black'\n",
      " 'LulzBot Taulman T-Glase PET 3D Printer Filament, 1 lb. Reel, 3 mm, Black'\n",
      " 'PRILINE ASA 3D Printer Filament, UV and Weather Resistant Filament,1.75mm 1kg Spool,Black ASA'\n",
      " 'Robotic Steel Metallic Silvery Steel 3D Printing PLA Filament \\xa0(1.75mm 0.5 kg) Made in The USA'\n",
      " '3Doodler Create PLA 3D Printing Filament Refill Bag (x250 Strands, Over 2000 ft. of Extruded Plastic) - Neon Sunset'\n",
      " '3Doodler Create PLA 3D Printing Filament Refill Bag (x250 Strands, Over 2000 ft. of Extruded Plastic) - Bud & Bloom'\n",
      " '2.85mm 3D Printing Filament Connector Gen2 3D Printer Accessories Easy Operate for Filament 2.85mm PLA/ABS/PC/PETG/TPU Material…'\n",
      " 'KIMYA - 3D Printer PLA Filament - 1.75mm - 750g - Consumable and Professional Parts Printing - 100% Recycled - Gray - Made in Europe'\n",
      " '3D Pen Filament Fun Pack - 11 Colors - for Use with Scribbler 3D Pen + All 3D Pens Except 3D Doodler - ABS 1.75mm 3D Pen Refills for 3 D Pen'\n",
      " 'Pomatoy 10x7ft Golf Practice Net High-Precision Diameter Pen PLA Filament for 3D Printer, Smooth Printing Refills for Easy 3D Art, Safe for Kids'\n",
      " \"3Doodler Start 3D Printing Filament Refill Tube (X100 Strands, Over 830'. of Extruded Plastics!) - Charcoal Black, Compatible with Start 3D Pen for Kids\"\n",
      " 'Open Smart Tag for XYZPrinting 3D Printers Compatible with 3rd Party Filament Open Source 3D Printing Filaments with Different Materials PLA PETG ABS Carbon'\n",
      " '3D Pen Filament with Silicon Design Mat and Compatible Stencils Book with 12 Templates - 1.75mm PLA Plastic Refills - 360 Feet of Assorted Filament for 3D Drawing and Doodling'\n",
      " '6 Pieces 3D Printer Filament Bundle 1.75mm PLA Printing PEGT, Silk Material Each Roll 200g Vacuum Packaging Printing Filament Dryer Rainbow Filament Supplies(Modern Colors,PLA)'\n",
      " '4 Spools of 3D Printlife Filament Bundle with Dremel Digilab 3D45 Award Winning 3D Printer, Idea Builder with Heated Build Plate to Print Nylon, ECO ABS, PETG, PLA at 50 Micron Resolution'\n",
      " 'MagicBiu 3D Printer Printing Pen Filament Refill(16 Colors, 320 Feet), Bonus 8 Drawing Stencils, Finger Caps, PVC Drawing Board, 1.75mm PLA Compatible for Dikale Tecboss Nulaxy etc(Not Fit 3Doodler)']\n",
      "\n",
      "Predicted Irrelevant, Uncertain:\n",
      "['3Doodler Start 3D Printing Filament Refill Bundle (x6 Packs, Over 700 ft. of Extruded Plastics!) - Really Rainbow, Compatible with Start 3D Pen for Kids'\n",
      " \"MakerBot PLA 3D Printing Filament Large Spool for Use with MakerBot's Replicator+ & 5th Generation Line of 3D Printers, Non-Toxic Resin, 1.75mm Diameter, Cool Gray (MP05784)\"\n",
      " 'Multi-Filament(PLA,ABS,PCL) 3D Printing Pen w/ 1.75mm PLA Filament (14-Piece Set) Kids and Adults Drawing, Writing, Creating 3-D Arts and Crafts Projects | LED Display, Birthday Gift']\n"
     ]
    }
   ],
   "source": [
    "# Show low confidence titles\n",
    "low_confidence_idxs2 = (new_predictions['confidence']<0.75)\n",
    "print('Predicted Relevant, Uncertain:')\n",
    "print(np.array(new_predictions.loc[low_confidence_idxs2*(new_predictions['predicted'].astype(bool)), 'title']))\n",
    "\n",
    "print('\\nPredicted Irrelevant, Uncertain:')\n",
    "print(np.array(new_predictions.loc[low_confidence_idxs2*(~new_predictions['predicted'].astype(bool)), 'title']))"
   ]
  },
  {
   "cell_type": "code",
   "execution_count": null,
   "metadata": {},
   "outputs": [],
   "source": [
    "# Load all available reviews\n",
    "reviews = pd.read_parquet(os.path.join(DATA_DIR, 'reviews.par'))"
   ]
  },
  {
   "cell_type": "code",
   "execution_count": null,
   "metadata": {},
   "outputs": [
    {
     "data": {
      "text/plain": [
       "array(['B07CZ6QHBP', 'B07YCR3ZWN', 'B08CZD63BR', ..., 'B07TTKLHQW',\n",
       "       'B0BNKL5224', 'B07TWP1TRB'], dtype=object)"
      ]
     },
     "execution_count": 40,
     "metadata": {},
     "output_type": "execute_result"
    }
   ],
   "source": [
    "# Get the asins for all the predicted relevant products (including manually labeled products)\n",
    "relevant_asins = new_predictions.index[new_predictions['predicted']].values\n",
    "relevant_asins"
   ]
  },
  {
   "cell_type": "code",
   "execution_count": null,
   "metadata": {},
   "outputs": [
    {
     "data": {
      "text/plain": [
       "(119019, 9)"
      ]
     },
     "execution_count": 42,
     "metadata": {},
     "output_type": "execute_result"
    }
   ],
   "source": [
    "# Filter to just the reviews associated with relevant products\n",
    "relevant_reviews = reviews.loc[reviews['parent_asin'].isin(relevant_asins)]\n",
    "relevant_reviews.shape"
   ]
  },
  {
   "cell_type": "code",
   "execution_count": null,
   "metadata": {},
   "outputs": [],
   "source": [
    "# Save the filtered reviews\n",
    "relevant_reviews.to_parquet(os.path.join(DATA_DIR, 'relevant_reviews.par'))"
   ]
  },
  {
   "cell_type": "code",
   "execution_count": null,
   "metadata": {},
   "outputs": [],
   "source": []
  }
 ],
 "metadata": {
  "kernelspec": {
   "display_name": ".venv",
   "language": "python",
   "name": "python3"
  },
  "language_info": {
   "codemirror_mode": {
    "name": "ipython",
    "version": 3
   },
   "file_extension": ".py",
   "mimetype": "text/x-python",
   "name": "python",
   "nbconvert_exporter": "python",
   "pygments_lexer": "ipython3",
   "version": "3.11.6"
  }
 },
 "nbformat": 4,
 "nbformat_minor": 2
}
