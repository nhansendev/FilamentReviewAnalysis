{
 "cells": [
  {
   "cell_type": "code",
   "execution_count": 2,
   "id": "74ad6f0c",
   "metadata": {},
   "outputs": [],
   "source": [
    "import os\n",
    "import numpy as np\n",
    "import pandas as pd\n",
    "import matplotlib.pyplot as plt\n",
    "\n",
    "from constants import DATA_DIR\n",
    "import functions as F\n",
    "import nlp_functions as NF"
   ]
  },
  {
   "cell_type": "code",
   "execution_count": 3,
   "id": "044e38af",
   "metadata": {},
   "outputs": [
    {
     "name": "stdout",
     "output_type": "stream",
     "text": [
      "Reading pre-processed products data...\n",
      "Done\n"
     ]
    },
    {
     "data": {
      "text/plain": [
       "(427564, 12)"
      ]
     },
     "execution_count": 3,
     "metadata": {},
     "output_type": "execute_result"
    }
   ],
   "source": [
    "# Import raw json file, perform preprocessing, and save as a parquet file for easy re-loading into a dataframe\n",
    "products = F.read_products_file('meta_Industrial_and_Scientific.jsonl')\n",
    "products.shape"
   ]
  },
  {
   "cell_type": "code",
   "execution_count": 4,
   "id": "2c988dc4",
   "metadata": {},
   "outputs": [
    {
     "name": "stdout",
     "output_type": "stream",
     "text": [
      "Reading pre-processed reviews data...\n",
      "Done\n"
     ]
    },
    {
     "data": {
      "text/plain": [
       "(5183005, 9)"
      ]
     },
     "execution_count": 4,
     "metadata": {},
     "output_type": "execute_result"
    }
   ],
   "source": [
    "# Import raw json file, perform preprocessing, and save as a parquet file for easy re-loading into a dataframe\n",
    "reviews = F.read_reviews_file('Industrial_and_Scientific.jsonl')\n",
    "reviews.shape"
   ]
  },
  {
   "cell_type": "code",
   "execution_count": 5,
   "id": "cf616fcf",
   "metadata": {},
   "outputs": [
    {
     "data": {
      "text/plain": [
       "(7390, 11)"
      ]
     },
     "execution_count": 5,
     "metadata": {},
     "output_type": "execute_result"
    }
   ],
   "source": [
    "# Filter the products to only those containing \"filament\" in their title and at least one known plastic type\n",
    "filament_products = F.get_filament_products(products)\n",
    "filament_products.set_index('parent_asin', drop=True, inplace=True)\n",
    "filament_products.shape"
   ]
  },
  {
   "cell_type": "code",
   "execution_count": 6,
   "id": "9e19101a",
   "metadata": {},
   "outputs": [
    {
     "data": {
      "text/plain": [
       "(7390, 12)"
      ]
     },
     "execution_count": 6,
     "metadata": {},
     "output_type": "execute_result"
    }
   ],
   "source": [
    "# Get review counts associated with filament products\n",
    "asin_review_counts = reviews['parent_asin'].value_counts()\n",
    "present = asin_review_counts.index.isin(filament_products.index)\n",
    "counts = asin_review_counts[present]\n",
    "filament_products.loc[counts.index, 'review_count'] = counts.values\n",
    "filament_products.shape"
   ]
  },
  {
   "cell_type": "code",
   "execution_count": 8,
   "id": "a28e1c42",
   "metadata": {},
   "outputs": [],
   "source": [
    "# Save a copy of the filament products dataframe\n",
    "filament_products.to_parquet(os.path.join(DATA_DIR, f'fil_products.par'))"
   ]
  },
  {
   "cell_type": "code",
   "execution_count": null,
   "id": "169a71b2",
   "metadata": {},
   "outputs": [
    {
     "data": {
      "image/png": "[encoded data removed]",
      "text/plain": [
       "<Figure size 400x300 with 1 Axes>"
      ]
     },
     "metadata": {},
     "output_type": "display_data"
    },
    {
     "name": "stdout",
     "output_type": "stream",
     "text": [
      "At least 5 Reviews: 2782/7390 (37.6%)\n"
     ]
    }
   ],
   "source": [
    "# Filter to products with >= N reviews\n",
    "N = 5\n",
    "\n",
    "subset = filament_products['review_count'][filament_products['review_count']>=N]\n",
    "frac = f'{len(subset)/len(filament_products):.1%}'\n",
    "\n",
    "counts, bins, bars = plt.hist(filament_products['review_count'], np.logspace(0, 4, 50))\n",
    "plt.hist(filament_products['review_count'][filament_products['review_count']>=N], bins)\n",
    "plt.xlabel('Number of Reviews (log)')\n",
    "plt.ylabel('Count (log)')\n",
    "plt.title('Product Review Counts')\n",
    "plt.vlines(N, 0, max(counts), 'k', 'dashed')\n",
    "plt.text(N, max(counts), f' ≥5 Reviews\\n ({frac})', va='top')\n",
    "plt.xscale('log')\n",
    "plt.yscale('log')\n",
    "\n",
    "plt.gcf().set_size_inches(4, 3)\n",
    "plt.show()\n",
    "\n",
    "print(f'At least {N} Reviews: {len(subset)}/{len(filament_products)} ({frac})')"
   ]
  },
  {
   "cell_type": "code",
   "execution_count": null,
   "id": "645fe7da",
   "metadata": {},
   "outputs": [],
   "source": [
    "# Save a copy of the filament products dataframe filtered to products with at least N associated reviews\n",
    "filament_products[filament_products['review_count']>=N].to_parquet(os.path.join(DATA_DIR, f'fil_products_{N}rev.par'))"
   ]
  },
  {
   "cell_type": "code",
   "execution_count": null,
   "id": "af5fa636",
   "metadata": {},
   "outputs": [],
   "source": []
  }
 ],
 "metadata": {
  "kernelspec": {
   "display_name": ".venv",
   "language": "python",
   "name": "python3"
  },
  "language_info": {
   "codemirror_mode": {
    "name": "ipython",
    "version": 3
   },
   "file_extension": ".py",
   "mimetype": "text/x-python",
   "name": "python",
   "nbconvert_exporter": "python",
   "pygments_lexer": "ipython3",
   "version": "3.11.6"
  }
 },
 "nbformat": 4,
 "nbformat_minor": 5
}
